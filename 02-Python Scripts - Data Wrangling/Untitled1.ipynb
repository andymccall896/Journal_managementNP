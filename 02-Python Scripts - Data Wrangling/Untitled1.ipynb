{
 "cells": [
  {
   "cell_type": "code",
   "execution_count": 2,
   "metadata": {},
   "outputs": [],
   "source": [
    "x = 213\n",
    "\n",
    "if x <0:\n",
    "    print(\"It's negative\")\n",
    "elif x > 0 \n",
    "    print('Hectic')"
   ]
  },
  {
   "cell_type": "code",
   "execution_count": 14,
   "metadata": {},
   "outputs": [],
   "source": [
    "sequence = [1,2,None,4,None, 5]\n",
    "total = 0\n",
    "for value in sequence:\n",
    "    if value is None: \n",
    "        continue\n",
    "    total += value \n",
    "#### this is essentially adding up all the numbers within a  list and put together\n"
   ]
  },
  {
   "cell_type": "code",
   "execution_count": null,
   "metadata": {},
   "outputs": [],
   "source": [
    "#### Understanding tuples \n",
    "## it is a fixed length and immutable sequence of python objects \n",
    "tup = 4,5,6\n",
    "tup\n",
    "\n",
    "nested_tup = (4,5,6),(7,8)\n",
    "tup = tuple('string')\n",
    "tup\n",
    "tup[0] ### can be accessed using brackets ### not possible to change any of the values of the tup values\n",
    "tup[1].append(3)\n",
    "\n",
    "#### unpacking tuples \n",
    "tup = (4,5,6)\n",
    "\n",
    "a,b,c = tup \n",
    "b\n",
    "tup = 4,5,(6,7)\n",
    "tup\n",
    "\n",
    "tmp = a\n",
    "a = b\n",
    "b = tmp"
   ]
  },
  {
   "cell_type": "code",
   "execution_count": null,
   "metadata": {},
   "outputs": [],
   "source": [
    "##### Understanding lists \n",
    "#lists are varaible changing length and their contents can be modified in-place\n",
    "a_list = [2, 3, 7, None]\n",
    "tup = ('foo', 'bar', 'baz')\n",
    "b_list = list(tup)\n",
    "b_list\n",
    "b_list[1] = 'peekaboo'\n",
    "b_list"
   ]
  },
  {
   "cell_type": "code",
   "execution_count": null,
   "metadata": {},
   "outputs": [],
   "source": []
  }
 ],
 "metadata": {
  "kernelspec": {
   "display_name": "Python 3",
   "language": "python",
   "name": "python3"
  },
  "language_info": {
   "codemirror_mode": {
    "name": "ipython",
    "version": 3
   },
   "file_extension": ".py",
   "mimetype": "text/x-python",
   "name": "python",
   "nbconvert_exporter": "python",
   "pygments_lexer": "ipython3",
   "version": "3.7.1"
  }
 },
 "nbformat": 4,
 "nbformat_minor": 4
}
