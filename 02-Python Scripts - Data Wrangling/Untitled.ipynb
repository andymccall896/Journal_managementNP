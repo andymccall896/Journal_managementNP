{
 "cells": [
  {
   "cell_type": "code",
   "execution_count": null,
   "id": "latter-convention",
   "metadata": {},
   "outputs": [],
   "source": [
    "'knowledg','classif','inform','good','','organ'\n",
    "                    ,'paper','subject','term','studi','develop','term','librari'\n",
    "                    ,'differ','index','approach','work','base','scienc','field'\n",
    "                    ,'user','structure','ko','www','present','ko','also','p',\n",
    "                    'two','one','provid','author','need','within','way','well','includ',\n",
    "                    'part','three','may','2','e','ddc','1','3','4','5','6','7','8','9','10','li',\n",
    "                    'would','non','de','four','ir','thu','frbr','737','g',\n",
    "                    'etc','av','br','co','th','o','sg','nr','per','1087',\n",
    "                    'six','j','miss','r','et','dan','bia','niac','sch','17525900'\n",
    "                    'u','lcc','c','ii','la','n','dc','aat' ,'24','TRUE','keep','220','le','po','stw',\n",
    "                    'kdc','oto','gsc','gsp','k','pt','dr','go','100','cc','il','nt','280','b','l','v',\n",
    "                    '20','kr','sp','ave','se','12','0','23','33','157','iv','rd','am','34','be','iii','fid'\n",
    "                    ,'lc','met','20th' ,'ste','axi','dsi','axi','200','230','223','hlt','sur','du','mesh'\n",
    "                    ,'lcsh','oclc','eu','atn','2nd','bc2','di','76','500','get','http','sdss','crg'\n",
    "                    ,'esp','sab','11','37','cs','urg','17525000','ot','fo','hn','em','ncft','48',\n",
    "                    '40','168','dec','pc','fix','ccq','lrt','ic','fix','owe','120th','87','510','94','49',\n",
    "                    '6n','mit','rev','int','32','136','144','cr','119','148','wall','120','ckm','cd','rom',\n",
    "                    'ata','nest','sdoc','soli','istei','tct','shl','ana','asp','dk5','240','292','299','f','ég','222'\n",
    "                    ,'229','59','pin','sen','twelv','bbk','14','28','180','192','cle','150','ec','np','ifla','ey','dea',\n",
    "                    'cpcl','nl','601','178','215','iskoi','htm','i','ref','31','92','97','çmf','ibn','vo','inv','un','kop','cen','21st'\n",
    "                    ,'659','ph','229','26','va','oc','ufpr','80060000','ena','od','fu','3d','ear','vi','saa','vi','62',\n",
    "                    'ed','43hing','kno','pubm','39','268','275','els','fac','nd','ek','oth','er','cep','ia','iti','38','114',\n",
    "                    '122','35','lam','liu','ru','16','403','41','311','318','ga','eas','gri','tgn','off','add','lrm','cm','ric','collat',\n",
    "                    'stop','unlik','die','sdi','90','379','1a','1b','rda','riv','hj','pac','hoc','rid','rio','ssn','real',\n",
    "                    'ccp','iht','edm','today','point','bcc'"
   ]
  }
 ],
 "metadata": {
  "kernelspec": {
   "display_name": "Python 3",
   "language": "python",
   "name": "python3"
  },
  "language_info": {
   "codemirror_mode": {
    "name": "ipython",
    "version": 3
   },
   "file_extension": ".py",
   "mimetype": "text/x-python",
   "name": "python",
   "nbconvert_exporter": "python",
   "pygments_lexer": "ipython3",
   "version": "3.7.1"
  }
 },
 "nbformat": 4,
 "nbformat_minor": 5
}
